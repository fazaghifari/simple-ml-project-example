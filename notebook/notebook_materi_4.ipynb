{
 "cells": [
  {
   "cell_type": "code",
   "execution_count": 1,
   "id": "0885cd49-3271-41f6-9807-338247cb123d",
   "metadata": {},
   "outputs": [],
   "source": [
    "import re\n",
    "import numpy as np\n",
    "import pandas as pd\n",
    "import matplotlib.pyplot as plt\n",
    "import seaborn as sns\n",
    "from tqdm import tqdm\n",
    "import sklearn\n",
    "import joblib\n",
    "import time"
   ]
  },
  {
   "cell_type": "code",
   "execution_count": 2,
   "id": "49835556-8058-480d-a3da-5e451be5e8a7",
   "metadata": {},
   "outputs": [],
   "source": [
    "from sklearn.linear_model import LogisticRegression\n",
    "from sklearn.ensemble import RandomForestClassifier\n",
    "from sklearn.metrics import classification_report, roc_auc_score, f1_score, plot_roc_curve, make_scorer\n",
    "from sklearn.calibration import CalibratedClassifierCV\n",
    "from sklearn.model_selection import RandomizedSearchCV\n",
    "from sklearn.utils.class_weight import compute_class_weight\n",
    "import lightgbm as lgb"
   ]
  },
  {
   "cell_type": "markdown",
   "id": "0c1268e9-dd05-45b9-ac58-f16e1fec4d71",
   "metadata": {},
   "source": [
    "# Load the previous preprocessed and feature-engineered dataset\n",
    "\n",
    "We already saved the previous state, so just load it again\n",
    "\n",
    "> Disclaimer: You don't have to follow the coding style, you can use your own style. "
   ]
  },
  {
   "cell_type": "code",
   "execution_count": 3,
   "id": "40e8c183-120e-40d2-8584-d13da4c703e4",
   "metadata": {},
   "outputs": [],
   "source": [
    "x_train_vect_id = joblib.load('../output/x_train_vect.pkl')\n",
    "x_valid_vect_id = joblib.load('../output/x_valid_vect.pkl')\n",
    "y_train_id = joblib.load('../output/y_train.pkl')\n",
    "y_valid_id = joblib.load('../output/y_valid.pkl')"
   ]
  },
  {
   "cell_type": "markdown",
   "id": "8bc8d3c1-8d2f-4b71-8ea5-4586f81c46b8",
   "metadata": {},
   "source": [
    "Oh, and also don't forget to drop the `id` column. We don't need that for modeling purpose."
   ]
  },
  {
   "cell_type": "code",
   "execution_count": 4,
   "id": "fe773ff1-dd1c-402c-b546-1c7abde264ec",
   "metadata": {},
   "outputs": [],
   "source": [
    "x_train_vect = x_train_vect_id.drop(columns='id')\n",
    "y_train = y_train_id.drop(columns='id')\n",
    "x_valid_vect = x_valid_vect_id.drop(columns='id')\n",
    "y_valid = y_valid_id.drop(columns='id')"
   ]
  },
  {
   "cell_type": "markdown",
   "id": "0724aa6c-f26c-442b-9fb2-ae4646a70890",
   "metadata": {},
   "source": [
    "# Try a single model"
   ]
  },
  {
   "cell_type": "markdown",
   "id": "c82461e3-aea0-448e-8cac-89df4765045d",
   "metadata": {},
   "source": [
    "Now, let's see the performance of a single model. We'll use a Random Forest Classifier for our first experiment"
   ]
  },
  {
   "cell_type": "code",
   "execution_count": 5,
   "id": "0f261584-2523-4e40-a883-4251f74ac4a2",
   "metadata": {},
   "outputs": [],
   "source": [
    "# Initiate the model\n",
    "rf = RandomForestClassifier(n_estimators = 50, random_state = 0, n_jobs=-1, verbose=1)"
   ]
  },
  {
   "cell_type": "code",
   "execution_count": 6,
   "id": "06e957d0-1819-4db3-917b-70b74cb3281e",
   "metadata": {},
   "outputs": [
    {
     "name": "stderr",
     "output_type": "stream",
     "text": [
      "[Parallel(n_jobs=-1)]: Using backend ThreadingBackend with 4 concurrent workers.\n",
      "[Parallel(n_jobs=-1)]: Done  42 tasks      | elapsed:   27.4s\n",
      "[Parallel(n_jobs=-1)]: Done  50 out of  50 | elapsed:   32.6s finished\n"
     ]
    },
    {
     "data": {
      "text/plain": [
       "RandomForestClassifier(n_estimators=50, n_jobs=-1, random_state=0, verbose=1)"
      ]
     },
     "execution_count": 6,
     "metadata": {},
     "output_type": "execute_result"
    }
   ],
   "source": [
    "# Fit fit fit\n",
    "rf.fit(x_train_vect, y_train.values.ravel())"
   ]
  },
  {
   "cell_type": "code",
   "execution_count": 7,
   "id": "7ae05356-55ce-445d-81a8-1161323716e4",
   "metadata": {},
   "outputs": [
    {
     "name": "stderr",
     "output_type": "stream",
     "text": [
      "[Parallel(n_jobs=4)]: Using backend ThreadingBackend with 4 concurrent workers.\n",
      "[Parallel(n_jobs=4)]: Done  42 tasks      | elapsed:    0.2s\n",
      "[Parallel(n_jobs=4)]: Done  50 out of  50 | elapsed:    0.2s finished\n",
      "[Parallel(n_jobs=4)]: Using backend ThreadingBackend with 4 concurrent workers.\n",
      "[Parallel(n_jobs=4)]: Done  42 tasks      | elapsed:    0.2s\n",
      "[Parallel(n_jobs=4)]: Done  50 out of  50 | elapsed:    0.2s finished\n"
     ]
    }
   ],
   "source": [
    "# Predict the result and the probability\n",
    "pred_res = rf.predict(x_valid_vect)\n",
    "proba_res = rf.predict_proba(x_valid_vect)"
   ]
  },
  {
   "cell_type": "markdown",
   "id": "8bb06617-ed66-4580-8beb-7b2f43c17ef4",
   "metadata": {},
   "source": [
    "Now, let's see how's the F1 score"
   ]
  },
  {
   "cell_type": "code",
   "execution_count": 8,
   "id": "a44db9e6-71cc-43ef-8ac9-709a48d7058e",
   "metadata": {},
   "outputs": [
    {
     "name": "stdout",
     "output_type": "stream",
     "text": [
      "              precision    recall  f1-score   support\n",
      "\n",
      "           0       0.93      0.99      0.96     39940\n",
      "           1       0.78      0.33      0.46      4191\n",
      "\n",
      "    accuracy                           0.93     44131\n",
      "   macro avg       0.86      0.66      0.71     44131\n",
      "weighted avg       0.92      0.93      0.91     44131\n",
      "\n"
     ]
    }
   ],
   "source": [
    "print(classification_report(y_valid, pred_res))"
   ]
  },
  {
   "cell_type": "markdown",
   "id": "26fb4727-be73-4df8-aa6d-93cc22704d0e",
   "metadata": {},
   "source": [
    "Whoa! We have a very low recall on the toxic class. \n",
    "* Means, only a few of the validation data (in class 1) that are correctly identified from all of the given examples\n",
    "\n",
    "Why?\n",
    "* Might because of imbalanced dataset\n",
    "* Or wrong choice of classifier algorithm(?)\n",
    "* Or wrong choice of parameters(?)\n",
    "* Uncalibrated model(?)\n",
    "* By default, the probability threshold is 0.5. But it can be adjusted."
   ]
  },
  {
   "cell_type": "code",
   "execution_count": 9,
   "id": "1c3dd246-aa37-41df-886e-3add4ac6bf71",
   "metadata": {},
   "outputs": [
    {
     "name": "stdout",
     "output_type": "stream",
     "text": [
      "Validation AUC : 0.8417329256829649\n"
     ]
    }
   ],
   "source": [
    "print(f\"Validation AUC : {roc_auc_score(y_valid, proba_res[:, 1])}\")"
   ]
  },
  {
   "cell_type": "markdown",
   "id": "d7c6a140-02be-4af2-9cab-a212cf4871ae",
   "metadata": {},
   "source": [
    "Oooh, look at the AUC, it's pretty good! Which means, the model could distinguish between positive and negative classes. So, we might need to find the best threshold. "
   ]
  },
  {
   "cell_type": "markdown",
   "id": "d2572fb9-2b2a-4a43-bcba-b9beaffa7e32",
   "metadata": {},
   "source": [
    "> p.s: Don't worry if you don't understand the F1 and AUC, we'll have some refreshment in the slide."
   ]
  },
  {
   "cell_type": "markdown",
   "id": "bcbbdd09-9efb-44a4-82a1-6553e2fc7683",
   "metadata": {},
   "source": [
    "# The Better Way of Modeling\n",
    "\n",
    "Now, we want to address those problems.\n",
    "\n",
    "> note: Due to time limitation, we can't explain each solution in a dedicated chapter/sub-chapter. So there'll be some concepts that introduced simultaneously. "
   ]
  },
  {
   "cell_type": "markdown",
   "id": "215f7790-d883-4fb5-9238-7e273ae9f4a9",
   "metadata": {},
   "source": [
    "First, let's define the model and set of hyperparams that we want to optimize. In this case, we'll use:\n",
    "* Logistic Regression\n",
    "* Random Forest\n",
    "* Gradient Boosting using LGBM\n",
    "\n",
    "> Note: The following coding style might not be the most efficient, but it does the job. Remember, at first iteration, only focus on your code is working."
   ]
  },
  {
   "cell_type": "code",
   "execution_count": 10,
   "id": "0e17079a-b313-4214-81d9-b26144b86268",
   "metadata": {},
   "outputs": [],
   "source": [
    "def model_logreg(class_weight = None):\n",
    "    \"\"\"\n",
    "    Function for initiating Logistic Regression Model\n",
    "    \"\"\"\n",
    "    param_dist = {'C' : [0.25, 0.5, 1]}\n",
    "    base_model = LogisticRegression(random_state=42, solver='liblinear', class_weight=class_weight)\n",
    "    \n",
    "    return param_dist, base_model\n",
    "\n",
    "def model_rf(class_weight = None):\n",
    "    \"\"\"\n",
    "    Function for initiating Random Forest Model\n",
    "    \"\"\"\n",
    "    param_dist = {'n_estimators' : [25, 50, 100]}\n",
    "    base_model = RandomForestClassifier(random_state=42, n_jobs=-1, class_weight=class_weight)\n",
    "    \n",
    "    return param_dist, base_model\n",
    "\n",
    "def model_lgb(class_weight = None):\n",
    "    \"\"\"\n",
    "    Function for initiating LightGBM Model\n",
    "    \"\"\"\n",
    "    param_dist = {'n_estimators' : [25, 50, 100], 'boosting_type':['gbdt', 'goss']}\n",
    "    base_model = lgb.LGBMClassifier(random_state=42, n_jobs=-1, class_weight=class_weight)\n",
    "    \n",
    "    return param_dist, base_model\n",
    "\n",
    "# Note, you can use as many as param dist, but in this session we'll only try few of them to save time."
   ]
  },
  {
   "cell_type": "markdown",
   "id": "508b82de-72c6-4602-ab3b-897343577f2b",
   "metadata": {},
   "source": [
    "Now, we want to create a function that do the hyperparameter optimization"
   ]
  },
  {
   "cell_type": "code",
   "execution_count": 11,
   "id": "67e2092d-3ac1-4cc2-85b1-635f8002d050",
   "metadata": {},
   "outputs": [],
   "source": [
    "def random_search_cv(model, param, scoring, n_iter, x, y, verbosity=0):\n",
    "    \"\"\"\n",
    "    Just a function to run the hyperparameter search\n",
    "    \"\"\"\n",
    "    random_fit = RandomizedSearchCV(estimator = model, \n",
    "                                    param_distributions = param, \n",
    "                                    scoring = scoring, \n",
    "                                    n_iter = n_iter, \n",
    "                                    cv = 5, \n",
    "                                    random_state = 42, \n",
    "                                    verbose = verbosity)\n",
    "    random_fit.fit(x, y)\n",
    "    return random_fit"
   ]
  },
  {
   "cell_type": "markdown",
   "id": "f7efee15-f557-4509-8a32-f47716aec5bd",
   "metadata": {},
   "source": [
    "Why do we use random search instead of grid search? [see here](https://stats.stackexchange.com/questions/160479/practical-hyperparameter-optimization-random-vs-grid-search)"
   ]
  },
  {
   "cell_type": "markdown",
   "id": "26a4dc81-dfd4-46c6-9577-858b381f1057",
   "metadata": {},
   "source": [
    "## Probability Calibration\n",
    "\n",
    "Are we there yet? Hold a sec, we'll introduce to you The **Probability Calibration**.\n",
    "Now, let's move to [this link](https://scikit-learn.org/stable/modules/calibration.html) for a moment. \n",
    "\n",
    "Now, let's see the code"
   ]
  },
  {
   "cell_type": "code",
   "execution_count": 12,
   "id": "611d1b5c-66e4-449b-9885-182bda48c39d",
   "metadata": {},
   "outputs": [],
   "source": [
    "def calibrate_classifier(model, x_valid, y_valid):\n",
    "    model_calibrated = CalibratedClassifierCV(model, cv='prefit')\n",
    "    model_calibrated.fit(x_valid, y_valid)\n",
    "    \n",
    "    return model_calibrated"
   ]
  },
  {
   "cell_type": "markdown",
   "id": "7a0af813-7c21-4f61-95c9-7b83561198fb",
   "metadata": {},
   "source": [
    "Now, this is our first time since the beginning to introduce the validation dataset. Why?\n",
    "\n",
    "The calibration data and the training data should be disjoint, as stated in the [documentation](https://scikit-learn.org/stable/modules/generated/sklearn.calibration.CalibratedClassifierCV.html#sklearn.calibration.CalibratedClassifierCV)\n",
    "\n",
    "Actually there are [2 ways](https://stats.stackexchange.com/questions/263393/scikit-correct-way-to-calibrate-classifiers-with-calibratedclassifiercv) to ensure that the data is disjoint. But we'll use the first one. Anyway if you are really curious about why the data should be disjoint, you can read this [reference](https://www.chengli.io/publications/li2019learning.pdf). It stated that the data should be disjoint to avoid over-confident score when the model overfits. "
   ]
  },
  {
   "cell_type": "markdown",
   "id": "fb0d7e14-400e-40f6-b168-8a5cde492f7e",
   "metadata": {},
   "source": [
    "## Threshold Adjustment\n",
    "\n",
    "In Scikit-learn, the default threshold is 0.5. But actually, moving the threshold sometimes could improve our model performance. Now, we want to decide which threshold is the best after we calibrate our models."
   ]
  },
  {
   "cell_type": "code",
   "execution_count": 13,
   "id": "e3cd0d25-cccc-452f-a0c0-c59a0c17d779",
   "metadata": {},
   "outputs": [],
   "source": [
    "def tune_threshold(model, x_valid, y_valid, scorer):\n",
    "    \"\"\"\n",
    "    Function for threshold adjustment\n",
    "    \n",
    "    Args:\n",
    "        - model(callable): Sklearn model\n",
    "        - x_valid(DataFrame):\n",
    "        - y_valid(DataFrame):\n",
    "        - scorer(callable): Sklearn scorer function, for example: f1_score\n",
    "    \"\"\"\n",
    "    thresholds = np.linspace(0,1,101)\n",
    "    proba = model.predict_proba(x_valid)[:, 1]\n",
    "    proba = pd.DataFrame(proba)\n",
    "    proba.columns = ['probability']\n",
    "    score = []\n",
    "    for threshold_value in thresholds:\n",
    "        proba['prediction'] = np.where( proba['probability'] > threshold_value, 1, 0)\n",
    "        metric_score = scorer(proba['prediction'], y_valid, average='macro')\n",
    "        score.append(metric_score)\n",
    "    metric_score = pd.DataFrame([thresholds,score]).T\n",
    "    metric_score.columns = ['threshold','metric_score']\n",
    "    best_score = (metric_score['metric_score'] == metric_score['metric_score'].max())\n",
    "    best_threshold = metric_score[best_score]['threshold']\n",
    "    \n",
    "    return metric_score[\"metric_score\"].max(), best_threshold.values[0]"
   ]
  },
  {
   "cell_type": "code",
   "execution_count": 14,
   "id": "17017e0b-634a-4e7a-9dfb-f7d6bef1150c",
   "metadata": {},
   "outputs": [],
   "source": [
    "def select_model(train_log_dict):\n",
    "    max_score = max(train_log_dict['model_score'])\n",
    "    max_index = train_log_dict['model_score'].index(max_score)\n",
    "    best_model = train_log_dict['model_fit'][max_index]\n",
    "    best_report = train_log_dict['model_report'][max_index]\n",
    "    best_threshold = train_log_dict['threshold'][max_index]\n",
    "    name = train_log_dict['model_name'][max_index]\n",
    "\n",
    "    return best_model, best_report, best_threshold, name"
   ]
  },
  {
   "cell_type": "code",
   "execution_count": 15,
   "id": "3ebc9c63-25e3-40a7-8d6d-8256d91cb431",
   "metadata": {},
   "outputs": [],
   "source": [
    "def classif_report(model_obj, x_test, y_test, best_threshold=None, calc_auc=True):\n",
    "    code2rel = {'0': 'Non-Toxic', '1': 'Toxic'}\n",
    "    \n",
    "    if best_threshold is None:\n",
    "        pred = model_obj.predict(x_test)\n",
    "    else:\n",
    "        proba = model_obj.predict_proba(x_test)[:, 1]\n",
    "        pred = np.where(proba > best_threshold, 1, 0)\n",
    "\n",
    "    res = classification_report(\n",
    "        y_test, pred, output_dict=True, zero_division=0)\n",
    "    res = pd.DataFrame(res).rename(columns=code2rel).T\n",
    "\n",
    "    if calc_auc:\n",
    "        proba = model_obj.predict_proba(x_test)[:, 1]\n",
    "        auc_score = roc_auc_score(y_test, proba)\n",
    "\n",
    "        print(\n",
    "            f\"AUC score: {auc_score}, F1-Macro: {res['f1-score']['macro avg']}\")\n",
    "    return pred, res"
   ]
  },
  {
   "cell_type": "markdown",
   "id": "c68446f9-51eb-411f-88c6-d1a3ec04eb01",
   "metadata": {},
   "source": [
    "# Let's put them together"
   ]
  },
  {
   "cell_type": "markdown",
   "id": "016d4ae3-b9a2-4118-9b91-53290830fefb",
   "metadata": {},
   "source": [
    "First, We want to create a `fit` function as a wrapper "
   ]
  },
  {
   "cell_type": "code",
   "execution_count": 16,
   "id": "efbba036-bb22-438b-b199-61f874e6a086",
   "metadata": {},
   "outputs": [],
   "source": [
    "def fit(x_train, y_train, model, model_param, scoring='f1', n_iter=3, verbosity=3):\n",
    "    \"\"\"\n",
    "    Fit model\n",
    "    \n",
    "    Args:\n",
    "        - model(callable): sklearn model\n",
    "        - model_param(dict): sklearn's RandomizedSearchCV params_distribution\n",
    "    \n",
    "    Return:\n",
    "        - model_fitted(callable): model with optimum hyperparams\n",
    "    \"\"\"\n",
    "    model_fitted = random_search_cv(model, model_param, \n",
    "                                    scoring, \n",
    "                                    n_iter, \n",
    "                                    x_train, y_train, \n",
    "                                    verbosity)\n",
    "    print(\n",
    "        f'Model: {model_fitted.best_estimator_}, {scoring}: {model_fitted.best_score_}')\n",
    "    \n",
    "    return model_fitted"
   ]
  },
  {
   "cell_type": "markdown",
   "id": "9e6ba44a-548b-4652-98a6-59e193f9e6b3",
   "metadata": {},
   "source": [
    "Then, we might create a validation wrapper that includes the calibration and threshold adjustment process as well as the final validation score for our model selection process."
   ]
  },
  {
   "cell_type": "code",
   "execution_count": 17,
   "id": "24f46612-8fad-4b6f-96bd-4602c9da56ea",
   "metadata": {},
   "outputs": [],
   "source": [
    "def validate(x_valid, y_valid, model_fitted, tune = True):\n",
    "    \"\"\"\n",
    "    Validate model\n",
    "\n",
    "    Args:\n",
    "        - x_valid(DataFrame): Validation independent variables\n",
    "        - y_valid(DataFrame): Validation Dependent variables\n",
    "        - model_fitted(callable): Sklearn / imblearn fitted model\n",
    "    \"\"\"\n",
    "    code2rel = {'0': 'Non-Toxic', '1': 'Toxic'}\n",
    "\n",
    "    # Calibrate Classifier\n",
    "    model_calibrated = CalibratedClassifierCV(base_estimator=model_fitted,\n",
    "                                              cv=\"prefit\")\n",
    "    model_calibrated.fit(x_valid, y_valid)\n",
    "    \n",
    "    if tune:\n",
    "        metric_score, best_threshold = tune_threshold(model_calibrated,\n",
    "                                                      x_valid,\n",
    "                                                      y_valid,\n",
    "                                                      f1_score)\n",
    "        \n",
    "        print(f'Best threshold is: {best_threshold}, with score: {metric_score}')\n",
    "        pred_model, report_model = classif_report(model_calibrated,\n",
    "                                                  x_valid,\n",
    "                                                  y_valid,\n",
    "                                                  best_threshold,\n",
    "                                                  True)\n",
    "    else:\n",
    "        # Report default\n",
    "        best_threshold = None\n",
    "        pred_model, report_model = classif_report(\n",
    "            model_calibrated, x_valid, y_valid, True)\n",
    "\n",
    "    return report_model, model_calibrated, best_threshold\n",
    "\n"
   ]
  },
  {
   "cell_type": "markdown",
   "id": "16fbfcad-ced0-43f4-b9ae-239bab951ea5",
   "metadata": {},
   "source": [
    "## Now, we'll define the main function"
   ]
  },
  {
   "cell_type": "code",
   "execution_count": 19,
   "id": "e1f457ba-a2f8-4480-9e77-2f9907094ced",
   "metadata": {},
   "outputs": [],
   "source": [
    "def main(x_train, y_train, x_valid, y_valid):\n",
    "    \n",
    "    # Add class weight\n",
    "    class_weight = compute_class_weight(class_weight = 'balanced', \n",
    "                                        classes = np.unique(y_train), \n",
    "                                        y = y_train)\n",
    "    class_weights = dict(zip(np.unique(y_train), class_weight))\n",
    "    \n",
    "    # Initiate models\n",
    "    logreg = model_logreg\n",
    "    rf = model_rf\n",
    "    lgb = model_lgb\n",
    "    \n",
    "    # Initiate logs\n",
    "    train_log_dict = {'model': [logreg, rf, lgb],\n",
    "                      'model_name': [],\n",
    "                      'model_fit': [],\n",
    "                      'model_report': [],\n",
    "                      'model_score': [],\n",
    "                      'threshold': [],\n",
    "                      'fit_time': []}\n",
    "\n",
    "\n",
    "    # Try Each models\n",
    "    for model in train_log_dict['model']:\n",
    "        param_model, base_model = model(class_weights)\n",
    "        train_log_dict['model_name'].append(base_model.__class__.__name__)\n",
    "        print(f'Fitting {base_model.__class__.__name__}')\n",
    "\n",
    "        # Train\n",
    "        t0 = time.time()\n",
    "        scoring = make_scorer(f1_score,average='macro')\n",
    "        fitted_model = fit(\n",
    "            x_train, y_train, base_model, param_model, scoring=scoring)\n",
    "        elapsed_time = time.time() - t0\n",
    "        print(f'elapsed time: {elapsed_time} s \\n')\n",
    "        train_log_dict['fit_time'].append(elapsed_time)\n",
    "\n",
    "        # Validate\n",
    "        report, calibrated_model, best_threshold = validate(\n",
    "            x_valid, y_valid, fitted_model)\n",
    "        train_log_dict['model_fit'].append(calibrated_model)\n",
    "        train_log_dict['threshold'].append(best_threshold)\n",
    "        train_log_dict['model_report'].append(report)\n",
    "        train_log_dict['model_score'].append(report['f1-score']['macro avg'])\n",
    "\n",
    "    best_model, best_report, best_threshold, name = select_model(\n",
    "        train_log_dict)\n",
    "    print(\n",
    "        f\"Model: {name}, Score: {best_report['f1-score']['macro avg']}\")\n",
    "    joblib.dump(best_model, '../output/mantab_model.pkl')\n",
    "    joblib.dump(best_threshold, '../output/threshold.pkl')\n",
    "    joblib.dump(train_log_dict, '../output/train_log.pkl')\n",
    "    print(f'\\n {best_report}')\n",
    "    \n",
    "    return best_model\n"
   ]
  },
  {
   "cell_type": "markdown",
   "id": "8fbc4b33-b127-4caf-a63f-a2be439ca799",
   "metadata": {},
   "source": [
    "Now, let's try running the code"
   ]
  },
  {
   "cell_type": "code",
   "execution_count": 20,
   "id": "7ca63bc3-a8cf-474b-995e-ba17b3087dc7",
   "metadata": {},
   "outputs": [
    {
     "name": "stdout",
     "output_type": "stream",
     "text": [
      "Fitting LogisticRegression\n",
      "Fitting 5 folds for each of 3 candidates, totalling 15 fits\n",
      "[CV 1/5] END ............................C=0.25;, score=0.640 total time=   0.8s\n",
      "[CV 2/5] END ............................C=0.25;, score=0.647 total time=   0.7s\n",
      "[CV 3/5] END ............................C=0.25;, score=0.639 total time=   0.7s\n",
      "[CV 4/5] END ............................C=0.25;, score=0.642 total time=   0.7s\n",
      "[CV 5/5] END ............................C=0.25;, score=0.642 total time=   0.7s\n",
      "[CV 1/5] END .............................C=0.5;, score=0.638 total time=   0.7s\n",
      "[CV 2/5] END .............................C=0.5;, score=0.646 total time=   0.7s\n",
      "[CV 3/5] END .............................C=0.5;, score=0.638 total time=   0.7s\n",
      "[CV 4/5] END .............................C=0.5;, score=0.641 total time=   0.7s\n",
      "[CV 5/5] END .............................C=0.5;, score=0.640 total time=   0.7s\n",
      "[CV 1/5] END ...............................C=1;, score=0.637 total time=   0.7s\n",
      "[CV 2/5] END ...............................C=1;, score=0.646 total time=   0.7s\n",
      "[CV 3/5] END ...............................C=1;, score=0.638 total time=   0.7s\n",
      "[CV 4/5] END ...............................C=1;, score=0.640 total time=   0.7s\n",
      "[CV 5/5] END ...............................C=1;, score=0.639 total time=   0.7s\n",
      "Model: LogisticRegression(C=0.25,\n",
      "                   class_weight={0: 0.5524624642168604, 1: 5.265311804008909},\n",
      "                   random_state=42, solver='liblinear'), make_scorer(f1_score, average=macro): 0.6421089289103569\n",
      "elapsed time: 13.648256301879883 s \n",
      "\n",
      "Best threshold is: 0.28, with score: 0.7274590201066383\n",
      "AUC score: 0.8707963639565767, F1-Macro: 0.7274590201066383\n",
      "Fitting RandomForestClassifier\n",
      "Fitting 5 folds for each of 3 candidates, totalling 15 fits\n",
      "[CV 1/5] END ...................n_estimators=25;, score=0.678 total time=  13.7s\n",
      "[CV 2/5] END ...................n_estimators=25;, score=0.693 total time=  13.1s\n",
      "[CV 3/5] END ...................n_estimators=25;, score=0.684 total time=  12.2s\n",
      "[CV 4/5] END ...................n_estimators=25;, score=0.686 total time=  12.3s\n",
      "[CV 5/5] END ...................n_estimators=25;, score=0.688 total time=  12.4s\n",
      "[CV 1/5] END ...................n_estimators=50;, score=0.680 total time=  23.3s\n",
      "[CV 2/5] END ...................n_estimators=50;, score=0.692 total time=  24.1s\n",
      "[CV 3/5] END ...................n_estimators=50;, score=0.685 total time=  23.0s\n",
      "[CV 4/5] END ...................n_estimators=50;, score=0.685 total time=  23.2s\n",
      "[CV 5/5] END ...................n_estimators=50;, score=0.687 total time=  23.6s\n",
      "[CV 1/5] END ..................n_estimators=100;, score=0.679 total time=  45.6s\n",
      "[CV 2/5] END ..................n_estimators=100;, score=0.693 total time=  46.5s\n",
      "[CV 3/5] END ..................n_estimators=100;, score=0.686 total time=  49.0s\n",
      "[CV 4/5] END ..................n_estimators=100;, score=0.686 total time=  51.6s\n",
      "[CV 5/5] END ..................n_estimators=100;, score=0.689 total time=  47.7s\n",
      "Model: RandomForestClassifier(class_weight={0: 0.5524624642168604,\n",
      "                                     1: 5.265311804008909},\n",
      "                       n_jobs=-1, random_state=42), make_scorer(f1_score, average=macro): 0.6865090160448547\n",
      "elapsed time: 481.82243633270264 s \n",
      "\n",
      "Best threshold is: 0.27, with score: 0.6877470733863128\n",
      "AUC score: 0.8392941864478894, F1-Macro: 0.6877470733863128\n",
      "Fitting LGBMClassifier\n",
      "Fitting 5 folds for each of 3 candidates, totalling 15 fits\n",
      "[CV 1/5] END boosting_type=gbdt, n_estimators=25;, score=0.593 total time=   2.1s\n",
      "[CV 2/5] END boosting_type=gbdt, n_estimators=25;, score=0.607 total time=   2.1s\n",
      "[CV 3/5] END boosting_type=gbdt, n_estimators=25;, score=0.602 total time=   2.1s\n",
      "[CV 4/5] END boosting_type=gbdt, n_estimators=25;, score=0.602 total time=   2.1s\n",
      "[CV 5/5] END boosting_type=gbdt, n_estimators=25;, score=0.601 total time=   2.1s\n",
      "[CV 1/5] END boosting_type=gbdt, n_estimators=50;, score=0.616 total time=   2.7s\n",
      "[CV 2/5] END boosting_type=gbdt, n_estimators=50;, score=0.625 total time=   2.7s\n",
      "[CV 3/5] END boosting_type=gbdt, n_estimators=50;, score=0.617 total time=   2.6s\n",
      "[CV 4/5] END boosting_type=gbdt, n_estimators=50;, score=0.618 total time=   2.7s\n",
      "[CV 5/5] END boosting_type=gbdt, n_estimators=50;, score=0.619 total time=   2.8s\n",
      "[CV 1/5] END boosting_type=goss, n_estimators=100;, score=0.637 total time=   4.1s\n",
      "[CV 2/5] END boosting_type=goss, n_estimators=100;, score=0.643 total time=   4.0s\n",
      "[CV 3/5] END boosting_type=goss, n_estimators=100;, score=0.636 total time=   4.1s\n",
      "[CV 4/5] END boosting_type=goss, n_estimators=100;, score=0.637 total time=   4.0s\n",
      "[CV 5/5] END boosting_type=goss, n_estimators=100;, score=0.639 total time=   4.1s\n",
      "Model: LGBMClassifier(boosting_type='goss',\n",
      "               class_weight={0: 0.5524624642168604, 1: 5.265311804008909},\n",
      "               random_state=42), make_scorer(f1_score, average=macro): 0.6384900218944738\n",
      "elapsed time: 50.80710768699646 s \n",
      "\n",
      "Best threshold is: 0.34, with score: 0.7308314023042528\n",
      "AUC score: 0.8734199814395895, F1-Macro: 0.7308314023042528\n",
      "Model: LGBMClassifier, Score: 0.7308314023042528\n",
      "\n",
      "               precision    recall  f1-score       support\n",
      "Non-Toxic      0.942593  0.969379  0.955798  39940.000000\n",
      "Toxic          0.599804  0.437366  0.505864   4191.000000\n",
      "accuracy       0.918855  0.918855  0.918855      0.918855\n",
      "macro avg      0.771198  0.703372  0.730831  44131.000000\n",
      "weighted avg   0.910039  0.918855  0.913069  44131.000000\n"
     ]
    }
   ],
   "source": [
    "best_model = main(x_train_vect, y_train.values.ravel(), x_valid_vect, y_valid.values.ravel())"
   ]
  },
  {
   "cell_type": "markdown",
   "id": "4340e21f-6e9f-47d9-bdda-7251b4099e28",
   "metadata": {},
   "source": [
    "### ROC Curve"
   ]
  },
  {
   "cell_type": "code",
   "execution_count": 5,
   "id": "ed84345a-8b0a-48d5-a6cf-8a6d981d99d1",
   "metadata": {},
   "outputs": [],
   "source": [
    "best_model = joblib.load('../output/mantab_model.pkl')\n",
    "best_threshold = joblib.load('../output/threshold.pkl')"
   ]
  },
  {
   "cell_type": "code",
   "execution_count": 6,
   "id": "381b0664-a8d1-44b2-b635-ba84edccad18",
   "metadata": {},
   "outputs": [
    {
     "name": "stderr",
     "output_type": "stream",
     "text": [
      "c:\\users\\ghifa\\documents\\pacmann\\simple-ml-project-example\\projectenv\\lib\\site-packages\\sklearn\\utils\\deprecation.py:87: FutureWarning: Function plot_roc_curve is deprecated; Function :func:`plot_roc_curve` is deprecated in 1.0 and will be removed in 1.2. Use one of the class methods: :meth:`sklearn.metric.RocCurveDisplay.from_predictions` or :meth:`sklearn.metric.RocCurveDisplay.from_estimator`.\n",
      "  warnings.warn(msg, category=FutureWarning)\n"
     ]
    },
    {
     "data": {
      "text/plain": [
       "<sklearn.metrics._plot.roc_curve.RocCurveDisplay at 0x1d80a0f39a0>"
      ]
     },
     "execution_count": 6,
     "metadata": {},
     "output_type": "execute_result"
    },
    {
     "data": {
      "image/png": "[encoded data removed]",
      "text/plain": [
       "<Figure size 432x288 with 1 Axes>"
      ]
     },
     "metadata": {
      "needs_background": "light"
     },
     "output_type": "display_data"
    }
   ],
   "source": [
    "plot_roc_curve(best_model, x_valid_vect, y_valid.values.ravel())"
   ]
  },
  {
   "cell_type": "markdown",
   "id": "c30009da-d3a5-42dd-9207-c61ff74894d4",
   "metadata": {},
   "source": [
    "What does high AUC mean? it means that our classifier could distinguish between classes"
   ]
  },
  {
   "cell_type": "markdown",
   "id": "4677eaf9-d5af-40a6-8610-e8921a95ab9a",
   "metadata": {},
   "source": [
    "### Thresholding Visualization"
   ]
  },
  {
   "cell_type": "code",
   "execution_count": 7,
   "id": "4317d5ed-62db-44b7-81ab-09709f1dfa12",
   "metadata": {},
   "outputs": [],
   "source": [
    "thresholds = np.linspace(0,1,101)\n",
    "proba = best_model.predict_proba(x_valid_vect)[:, 1]\n",
    "proba = pd.DataFrame(proba)\n",
    "proba.columns = ['probability']\n",
    "score = []\n",
    "for threshold_value in thresholds:\n",
    "    proba['prediction'] = np.where( proba['probability'] > threshold_value, 1, 0)\n",
    "    metric_score = f1_score(proba['prediction'], y_valid, average='macro')\n",
    "    score.append(metric_score)\n",
    "metric_score = pd.DataFrame([thresholds,score]).T\n",
    "metric_score.columns = ['threshold','metric_score']"
   ]
  },
  {
   "cell_type": "code",
   "execution_count": 8,
   "id": "2f923d38-a513-4cc2-952d-3f21dc2c3152",
   "metadata": {
    "tags": []
   },
   "outputs": [
    {
     "data": {
      "text/plain": [
       "<AxesSubplot:xlabel='threshold'>"
      ]
     },
     "execution_count": 8,
     "metadata": {},
     "output_type": "execute_result"
    },
    {
     "data": {
      "image/png": "[encoded data removed]",
      "text/plain": [
       "<Figure size 432x288 with 1 Axes>"
      ]
     },
     "metadata": {
      "needs_background": "light"
     },
     "output_type": "display_data"
    }
   ],
   "source": [
    "metric_score.plot(x='threshold',y='metric_score')"
   ]
  },
  {
   "cell_type": "markdown",
   "id": "b930538c-822d-48b7-8923-02acef779dd8",
   "metadata": {},
   "source": [
    "# Error Analysis"
   ]
  },
  {
   "cell_type": "markdown",
   "id": "ef6e3bd5-90d3-4bd2-8702-c861bd782a39",
   "metadata": {},
   "source": [
    "First, we would like to see the misclassified classes. We can do this using the confusion matrix"
   ]
  },
  {
   "cell_type": "code",
   "execution_count": 9,
   "id": "23f3f062-cf90-4b28-a72b-6682e166211e",
   "metadata": {},
   "outputs": [],
   "source": [
    "from sklearn.metrics import ConfusionMatrixDisplay"
   ]
  },
  {
   "cell_type": "code",
   "execution_count": 10,
   "id": "e610ec61-6138-438c-b182-86404320b8d6",
   "metadata": {},
   "outputs": [
    {
     "data": {
      "text/plain": [
       "Text(0.5, 1.0, 'Confusion Matrix')"
      ]
     },
     "execution_count": 10,
     "metadata": {},
     "output_type": "execute_result"
    },
    {
     "data": {
      "image/png": "[encoded data removed]",
      "text/plain": [
       "<Figure size 432x288 with 2 Axes>"
      ]
     },
     "metadata": {
      "needs_background": "light"
     },
     "output_type": "display_data"
    }
   ],
   "source": [
    "disp = ConfusionMatrixDisplay.from_estimator(\n",
    "        best_model,\n",
    "        x_valid_vect,\n",
    "        y_valid,\n",
    "        display_labels=['non-toxic','toxic'],\n",
    "        cmap=plt.cm.Blues,\n",
    "        normalize=None,\n",
    "    )\n",
    "disp.ax_.set_title(\"Confusion Matrix\")"
   ]
  },
  {
   "cell_type": "markdown",
   "id": "7899cfd0-9517-4ca1-ae94-19a9aac8572d",
   "metadata": {},
   "source": [
    "Let's plot the probability distribution"
   ]
  },
  {
   "cell_type": "code",
   "execution_count": 11,
   "id": "3f53d97a-cac6-4b93-ab23-7658eacc2868",
   "metadata": {},
   "outputs": [
    {
     "data": {
      "text/html": [
       "<div>\n",
       "<style scoped>\n",
       "    .dataframe tbody tr th:only-of-type {\n",
       "        vertical-align: middle;\n",
       "    }\n",
       "\n",
       "    .dataframe tbody tr th {\n",
       "        vertical-align: top;\n",
       "    }\n",
       "\n",
       "    .dataframe thead th {\n",
       "        text-align: right;\n",
       "    }\n",
       "</style>\n",
       "<table border=\"1\" class=\"dataframe\">\n",
       "  <thead>\n",
       "    <tr style=\"text-align: right;\">\n",
       "      <th></th>\n",
       "      <th>toxic</th>\n",
       "    </tr>\n",
       "  </thead>\n",
       "  <tbody>\n",
       "    <tr>\n",
       "      <th>133752</th>\n",
       "      <td>0</td>\n",
       "    </tr>\n",
       "    <tr>\n",
       "      <th>69259</th>\n",
       "      <td>0</td>\n",
       "    </tr>\n",
       "    <tr>\n",
       "      <th>9023</th>\n",
       "      <td>0</td>\n",
       "    </tr>\n",
       "    <tr>\n",
       "      <th>153272</th>\n",
       "      <td>0</td>\n",
       "    </tr>\n",
       "    <tr>\n",
       "      <th>2565</th>\n",
       "      <td>0</td>\n",
       "    </tr>\n",
       "    <tr>\n",
       "      <th>...</th>\n",
       "      <td>...</td>\n",
       "    </tr>\n",
       "    <tr>\n",
       "      <th>93876</th>\n",
       "      <td>0</td>\n",
       "    </tr>\n",
       "    <tr>\n",
       "      <th>106320</th>\n",
       "      <td>0</td>\n",
       "    </tr>\n",
       "    <tr>\n",
       "      <th>101828</th>\n",
       "      <td>0</td>\n",
       "    </tr>\n",
       "    <tr>\n",
       "      <th>170578</th>\n",
       "      <td>0</td>\n",
       "    </tr>\n",
       "    <tr>\n",
       "      <th>8364</th>\n",
       "      <td>0</td>\n",
       "    </tr>\n",
       "  </tbody>\n",
       "</table>\n",
       "<p>44131 rows × 1 columns</p>\n",
       "</div>"
      ],
      "text/plain": [
       "        toxic\n",
       "133752      0\n",
       "69259       0\n",
       "9023        0\n",
       "153272      0\n",
       "2565        0\n",
       "...       ...\n",
       "93876       0\n",
       "106320      0\n",
       "101828      0\n",
       "170578      0\n",
       "8364        0\n",
       "\n",
       "[44131 rows x 1 columns]"
      ]
     },
     "execution_count": 11,
     "metadata": {},
     "output_type": "execute_result"
    }
   ],
   "source": [
    "y_valid"
   ]
  },
  {
   "cell_type": "code",
   "execution_count": 12,
   "id": "7db38de8-e7e3-45c8-826f-8e9111ad01dd",
   "metadata": {},
   "outputs": [
    {
     "data": {
      "text/html": [
       "<div>\n",
       "<style scoped>\n",
       "    .dataframe tbody tr th:only-of-type {\n",
       "        vertical-align: middle;\n",
       "    }\n",
       "\n",
       "    .dataframe tbody tr th {\n",
       "        vertical-align: top;\n",
       "    }\n",
       "\n",
       "    .dataframe thead th {\n",
       "        text-align: right;\n",
       "    }\n",
       "</style>\n",
       "<table border=\"1\" class=\"dataframe\">\n",
       "  <thead>\n",
       "    <tr style=\"text-align: right;\">\n",
       "      <th></th>\n",
       "      <th>probability</th>\n",
       "      <th>prediction</th>\n",
       "    </tr>\n",
       "  </thead>\n",
       "  <tbody>\n",
       "    <tr>\n",
       "      <th>0</th>\n",
       "      <td>0.006033</td>\n",
       "      <td>0</td>\n",
       "    </tr>\n",
       "    <tr>\n",
       "      <th>1</th>\n",
       "      <td>0.006474</td>\n",
       "      <td>0</td>\n",
       "    </tr>\n",
       "    <tr>\n",
       "      <th>2</th>\n",
       "      <td>0.012351</td>\n",
       "      <td>0</td>\n",
       "    </tr>\n",
       "    <tr>\n",
       "      <th>3</th>\n",
       "      <td>0.007597</td>\n",
       "      <td>0</td>\n",
       "    </tr>\n",
       "    <tr>\n",
       "      <th>4</th>\n",
       "      <td>0.106757</td>\n",
       "      <td>0</td>\n",
       "    </tr>\n",
       "    <tr>\n",
       "      <th>...</th>\n",
       "      <td>...</td>\n",
       "      <td>...</td>\n",
       "    </tr>\n",
       "    <tr>\n",
       "      <th>44126</th>\n",
       "      <td>0.007583</td>\n",
       "      <td>0</td>\n",
       "    </tr>\n",
       "    <tr>\n",
       "      <th>44127</th>\n",
       "      <td>0.017224</td>\n",
       "      <td>0</td>\n",
       "    </tr>\n",
       "    <tr>\n",
       "      <th>44128</th>\n",
       "      <td>0.020303</td>\n",
       "      <td>0</td>\n",
       "    </tr>\n",
       "    <tr>\n",
       "      <th>44129</th>\n",
       "      <td>0.401321</td>\n",
       "      <td>0</td>\n",
       "    </tr>\n",
       "    <tr>\n",
       "      <th>44130</th>\n",
       "      <td>0.005450</td>\n",
       "      <td>0</td>\n",
       "    </tr>\n",
       "  </tbody>\n",
       "</table>\n",
       "<p>44131 rows × 2 columns</p>\n",
       "</div>"
      ],
      "text/plain": [
       "       probability  prediction\n",
       "0         0.006033           0\n",
       "1         0.006474           0\n",
       "2         0.012351           0\n",
       "3         0.007597           0\n",
       "4         0.106757           0\n",
       "...            ...         ...\n",
       "44126     0.007583           0\n",
       "44127     0.017224           0\n",
       "44128     0.020303           0\n",
       "44129     0.401321           0\n",
       "44130     0.005450           0\n",
       "\n",
       "[44131 rows x 2 columns]"
      ]
     },
     "execution_count": 12,
     "metadata": {},
     "output_type": "execute_result"
    }
   ],
   "source": [
    "proba"
   ]
  },
  {
   "cell_type": "code",
   "execution_count": 13,
   "id": "f82837a5-d560-486a-aadc-ab6067596119",
   "metadata": {},
   "outputs": [
    {
     "data": {
      "image/png": "[encoded data removed]",
      "text/plain": [
       "<Figure size 1080x504 with 1 Axes>"
      ]
     },
     "metadata": {
      "needs_background": "light"
     },
     "output_type": "display_data"
    }
   ],
   "source": [
    "plt.figure(figsize=(15,7))\n",
    "plt.hist(proba[y_valid.values.ravel()==0].probability, bins=50, label='Negatives', density=True)\n",
    "plt.hist(proba[y_valid.values.ravel()==1].probability, bins=50, label='Positives', alpha=0.7, density=True)\n",
    "plt.xlabel('Probability of being Positive Class', fontsize=25)\n",
    "plt.legend(fontsize=15)\n",
    "plt.tick_params(axis='both', labelsize=25, pad=5)\n",
    "plt.show() "
   ]
  },
  {
   "cell_type": "markdown",
   "id": "896d963c-84be-4af5-bda2-92d8d017fa9a",
   "metadata": {},
   "source": [
    "We have threshold 0.34. Now, we want to see the data"
   ]
  },
  {
   "cell_type": "code",
   "execution_count": 14,
   "id": "e6caa968-38ad-4d57-92a9-1c3a19e2cb7d",
   "metadata": {},
   "outputs": [
    {
     "data": {
      "text/html": [
       "<div>\n",
       "<style scoped>\n",
       "    .dataframe tbody tr th:only-of-type {\n",
       "        vertical-align: middle;\n",
       "    }\n",
       "\n",
       "    .dataframe tbody tr th {\n",
       "        vertical-align: top;\n",
       "    }\n",
       "\n",
       "    .dataframe thead th {\n",
       "        text-align: right;\n",
       "    }\n",
       "</style>\n",
       "<table border=\"1\" class=\"dataframe\">\n",
       "  <thead>\n",
       "    <tr style=\"text-align: right;\">\n",
       "      <th></th>\n",
       "      <th>probability</th>\n",
       "      <th>prediction</th>\n",
       "    </tr>\n",
       "  </thead>\n",
       "  <tbody>\n",
       "    <tr>\n",
       "      <th>0</th>\n",
       "      <td>0.006033</td>\n",
       "      <td>0</td>\n",
       "    </tr>\n",
       "    <tr>\n",
       "      <th>1</th>\n",
       "      <td>0.006474</td>\n",
       "      <td>0</td>\n",
       "    </tr>\n",
       "    <tr>\n",
       "      <th>2</th>\n",
       "      <td>0.012351</td>\n",
       "      <td>0</td>\n",
       "    </tr>\n",
       "    <tr>\n",
       "      <th>3</th>\n",
       "      <td>0.007597</td>\n",
       "      <td>0</td>\n",
       "    </tr>\n",
       "    <tr>\n",
       "      <th>4</th>\n",
       "      <td>0.106757</td>\n",
       "      <td>0</td>\n",
       "    </tr>\n",
       "    <tr>\n",
       "      <th>...</th>\n",
       "      <td>...</td>\n",
       "      <td>...</td>\n",
       "    </tr>\n",
       "    <tr>\n",
       "      <th>44126</th>\n",
       "      <td>0.007583</td>\n",
       "      <td>0</td>\n",
       "    </tr>\n",
       "    <tr>\n",
       "      <th>44127</th>\n",
       "      <td>0.017224</td>\n",
       "      <td>0</td>\n",
       "    </tr>\n",
       "    <tr>\n",
       "      <th>44128</th>\n",
       "      <td>0.020303</td>\n",
       "      <td>0</td>\n",
       "    </tr>\n",
       "    <tr>\n",
       "      <th>44129</th>\n",
       "      <td>0.401321</td>\n",
       "      <td>0</td>\n",
       "    </tr>\n",
       "    <tr>\n",
       "      <th>44130</th>\n",
       "      <td>0.005450</td>\n",
       "      <td>0</td>\n",
       "    </tr>\n",
       "  </tbody>\n",
       "</table>\n",
       "<p>44131 rows × 2 columns</p>\n",
       "</div>"
      ],
      "text/plain": [
       "       probability  prediction\n",
       "0         0.006033           0\n",
       "1         0.006474           0\n",
       "2         0.012351           0\n",
       "3         0.007597           0\n",
       "4         0.106757           0\n",
       "...            ...         ...\n",
       "44126     0.007583           0\n",
       "44127     0.017224           0\n",
       "44128     0.020303           0\n",
       "44129     0.401321           0\n",
       "44130     0.005450           0\n",
       "\n",
       "[44131 rows x 2 columns]"
      ]
     },
     "execution_count": 14,
     "metadata": {},
     "output_type": "execute_result"
    }
   ],
   "source": [
    "proba"
   ]
  },
  {
   "cell_type": "code",
   "execution_count": 34,
   "id": "4c4c1176-3bbd-484b-8292-e4016bf8e7e7",
   "metadata": {},
   "outputs": [],
   "source": [
    "def split_df(y_valid_id, proba, x_valid_prep):\n",
    "    y_val_id = y_valid_id.reset_index(drop=True)\n",
    "    false_pos = y_val_id[(y_valid.values.ravel() == 1) & (proba.probability < 0.34)]\n",
    "    false_neg = y_val_id[(y_valid.values.ravel() == 0) & (proba.probability > 0.34)]\n",
    "    true_pos = y_val_id[(y_valid.values.ravel() == 1) & (proba.probability > 0.34)]\n",
    "    true_neg = y_val_id[(y_valid.values.ravel() == 0) & (proba.probability < 0.34)]\n",
    "    x_valid_fp = x_valid_prep[x_valid_prep.id.isin(false_pos.id)]\n",
    "    x_valid_fn = x_valid_prep[x_valid_prep.id.isin(false_neg.id)]\n",
    "    x_valid_tp = x_valid_prep[x_valid_prep.id.isin(true_pos.id)]\n",
    "    x_valid_tn = x_valid_prep[x_valid_prep.id.isin(true_neg.id)]\n",
    "    \n",
    "    return x_valid_fp, x_valid_fn, x_valid_tp, x_valid_tn"
   ]
  },
  {
   "cell_type": "markdown",
   "id": "7778b140-b579-4cc4-a9a9-97c2120a6350",
   "metadata": {},
   "source": [
    "Load preprocessed X_valid"
   ]
  },
  {
   "cell_type": "code",
   "execution_count": 43,
   "id": "fc2b14c7-6a28-4aee-92dd-1cf09afcb6c7",
   "metadata": {},
   "outputs": [],
   "source": [
    "x_valid_prep = joblib.load(\"../output/x_valid_preprocessed.pkl\")\n",
    "x_valid_raw = joblib.load(\"../output/x_valid.pkl\")"
   ]
  },
  {
   "cell_type": "code",
   "execution_count": 36,
   "id": "f8ba5a3f-fa4b-4322-80d5-c9a62b22a0f1",
   "metadata": {},
   "outputs": [],
   "source": [
    "x_fp, x_fn, x_tp, x_tn = split_df(y_valid_id, proba, x_valid_prep)"
   ]
  },
  {
   "cell_type": "code",
   "execution_count": 39,
   "id": "b53de039-e634-45f7-919d-8d719d33b091",
   "metadata": {},
   "outputs": [
    {
     "data": {
      "text/html": [
       "<div>\n",
       "<style scoped>\n",
       "    .dataframe tbody tr th:only-of-type {\n",
       "        vertical-align: middle;\n",
       "    }\n",
       "\n",
       "    .dataframe tbody tr th {\n",
       "        vertical-align: top;\n",
       "    }\n",
       "\n",
       "    .dataframe thead th {\n",
       "        text-align: right;\n",
       "    }\n",
       "</style>\n",
       "<table border=\"1\" class=\"dataframe\">\n",
       "  <thead>\n",
       "    <tr style=\"text-align: right;\">\n",
       "      <th></th>\n",
       "      <th>id</th>\n",
       "      <th>comment_text</th>\n",
       "    </tr>\n",
       "  </thead>\n",
       "  <tbody>\n",
       "    <tr>\n",
       "      <th>50886</th>\n",
       "      <td>88bcdab667d66d10</td>\n",
       "      <td>user abd muslim scum</td>\n",
       "    </tr>\n",
       "    <tr>\n",
       "      <th>139709</th>\n",
       "      <td>eee2f4f1ce628f01</td>\n",
       "      <td>suck dick wikiluser</td>\n",
       "    </tr>\n",
       "    <tr>\n",
       "      <th>193765</th>\n",
       "      <td>9067710fbce0d039</td>\n",
       "      <td>flames jackass</td>\n",
       "    </tr>\n",
       "    <tr>\n",
       "      <th>81009</th>\n",
       "      <td>d9a8ceaf9e429a01</td>\n",
       "      <td>attention faggot</td>\n",
       "    </tr>\n",
       "    <tr>\n",
       "      <th>37603</th>\n",
       "      <td>64d7880b6987daa6</td>\n",
       "      <td>accused sockpuppetry author makes sense know f...</td>\n",
       "    </tr>\n",
       "  </tbody>\n",
       "</table>\n",
       "</div>"
      ],
      "text/plain": [
       "                      id                                       comment_text\n",
       "50886   88bcdab667d66d10                               user abd muslim scum\n",
       "139709  eee2f4f1ce628f01                                suck dick wikiluser\n",
       "193765  9067710fbce0d039                                     flames jackass\n",
       "81009   d9a8ceaf9e429a01                                   attention faggot\n",
       "37603   64d7880b6987daa6  accused sockpuppetry author makes sense know f..."
      ]
     },
     "execution_count": 39,
     "metadata": {},
     "output_type": "execute_result"
    }
   ],
   "source": [
    "x_fp.head()"
   ]
  },
  {
   "cell_type": "code",
   "execution_count": 40,
   "id": "da3ffe83-18a5-4c5e-b350-bd8d315c0438",
   "metadata": {},
   "outputs": [
    {
     "data": {
      "text/html": [
       "<div>\n",
       "<style scoped>\n",
       "    .dataframe tbody tr th:only-of-type {\n",
       "        vertical-align: middle;\n",
       "    }\n",
       "\n",
       "    .dataframe tbody tr th {\n",
       "        vertical-align: top;\n",
       "    }\n",
       "\n",
       "    .dataframe thead th {\n",
       "        text-align: right;\n",
       "    }\n",
       "</style>\n",
       "<table border=\"1\" class=\"dataframe\">\n",
       "  <thead>\n",
       "    <tr style=\"text-align: right;\">\n",
       "      <th></th>\n",
       "      <th>id</th>\n",
       "      <th>comment_text</th>\n",
       "    </tr>\n",
       "  </thead>\n",
       "  <tbody>\n",
       "    <tr>\n",
       "      <th>52573</th>\n",
       "      <td>8d2e2ff120aae562</td>\n",
       "      <td>rough google tally aids denialist hits big tob...</td>\n",
       "    </tr>\n",
       "    <tr>\n",
       "      <th>173429</th>\n",
       "      <td>3bf4186e4baabb43</td>\n",
       "      <td>song fucking retarded lyrics time</td>\n",
       "    </tr>\n",
       "    <tr>\n",
       "      <th>173733</th>\n",
       "      <td>3d1e5f3d1e87a770</td>\n",
       "      <td>bate nate hussein curruntly years old born th ...</td>\n",
       "    </tr>\n",
       "    <tr>\n",
       "      <th>58049</th>\n",
       "      <td>9c1d31b1c5a34682</td>\n",
       "      <td>ip block problem like said people dont tools</td>\n",
       "    </tr>\n",
       "    <tr>\n",
       "      <th>18656</th>\n",
       "      <td>3174664a5932aca5</td>\n",
       "      <td>well know uncyclopedia made myke page believe ...</td>\n",
       "    </tr>\n",
       "  </tbody>\n",
       "</table>\n",
       "</div>"
      ],
      "text/plain": [
       "                      id                                       comment_text\n",
       "52573   8d2e2ff120aae562  rough google tally aids denialist hits big tob...\n",
       "173429  3bf4186e4baabb43                  song fucking retarded lyrics time\n",
       "173733  3d1e5f3d1e87a770  bate nate hussein curruntly years old born th ...\n",
       "58049   9c1d31b1c5a34682       ip block problem like said people dont tools\n",
       "18656   3174664a5932aca5  well know uncyclopedia made myke page believe ..."
      ]
     },
     "execution_count": 40,
     "metadata": {},
     "output_type": "execute_result"
    }
   ],
   "source": [
    "x_fn.head()"
   ]
  },
  {
   "cell_type": "code",
   "execution_count": 41,
   "id": "51a615f3-ec55-4de3-988e-3954cb30406b",
   "metadata": {},
   "outputs": [
    {
     "data": {
      "text/html": [
       "<div>\n",
       "<style scoped>\n",
       "    .dataframe tbody tr th:only-of-type {\n",
       "        vertical-align: middle;\n",
       "    }\n",
       "\n",
       "    .dataframe tbody tr th {\n",
       "        vertical-align: top;\n",
       "    }\n",
       "\n",
       "    .dataframe thead th {\n",
       "        text-align: right;\n",
       "    }\n",
       "</style>\n",
       "<table border=\"1\" class=\"dataframe\">\n",
       "  <thead>\n",
       "    <tr style=\"text-align: right;\">\n",
       "      <th></th>\n",
       "      <th>id</th>\n",
       "      <th>comment_text</th>\n",
       "    </tr>\n",
       "  </thead>\n",
       "  <tbody>\n",
       "    <tr>\n",
       "      <th>172076</th>\n",
       "      <td>3671a686ef987ca8</td>\n",
       "      <td>unblock cus fuck thats</td>\n",
       "    </tr>\n",
       "    <tr>\n",
       "      <th>127309</th>\n",
       "      <td>ac04b17583acfd3b</td>\n",
       "      <td>aww shut fuck little whiny bitch</td>\n",
       "    </tr>\n",
       "    <tr>\n",
       "      <th>196743</th>\n",
       "      <td>9c3e3e122339eeb1</td>\n",
       "      <td>english translation ngo yaw ngadlek ney yaw ng...</td>\n",
       "    </tr>\n",
       "    <tr>\n",
       "      <th>62908</th>\n",
       "      <td>a9208bd1beb28830</td>\n",
       "      <td>fuck youfuckingidiot</td>\n",
       "    </tr>\n",
       "    <tr>\n",
       "      <th>92313</th>\n",
       "      <td>f7f18a4655bc8e14</td>\n",
       "      <td>u guys bunch jerks fuck u hate</td>\n",
       "    </tr>\n",
       "  </tbody>\n",
       "</table>\n",
       "</div>"
      ],
      "text/plain": [
       "                      id                                       comment_text\n",
       "172076  3671a686ef987ca8                             unblock cus fuck thats\n",
       "127309  ac04b17583acfd3b                   aww shut fuck little whiny bitch\n",
       "196743  9c3e3e122339eeb1  english translation ngo yaw ngadlek ney yaw ng...\n",
       "62908   a9208bd1beb28830                               fuck youfuckingidiot\n",
       "92313   f7f18a4655bc8e14                     u guys bunch jerks fuck u hate"
      ]
     },
     "execution_count": 41,
     "metadata": {},
     "output_type": "execute_result"
    }
   ],
   "source": [
    "x_tp.head()"
   ]
  },
  {
   "cell_type": "code",
   "execution_count": 42,
   "id": "60404deb-7628-4476-a13d-926f2686be99",
   "metadata": {},
   "outputs": [
    {
     "data": {
      "text/html": [
       "<div>\n",
       "<style scoped>\n",
       "    .dataframe tbody tr th:only-of-type {\n",
       "        vertical-align: middle;\n",
       "    }\n",
       "\n",
       "    .dataframe tbody tr th {\n",
       "        vertical-align: top;\n",
       "    }\n",
       "\n",
       "    .dataframe thead th {\n",
       "        text-align: right;\n",
       "    }\n",
       "</style>\n",
       "<table border=\"1\" class=\"dataframe\">\n",
       "  <thead>\n",
       "    <tr style=\"text-align: right;\">\n",
       "      <th></th>\n",
       "      <th>id</th>\n",
       "      <th>comment_text</th>\n",
       "    </tr>\n",
       "  </thead>\n",
       "  <tbody>\n",
       "    <tr>\n",
       "      <th>133752</th>\n",
       "      <td>ce62150bc62b0a0e</td>\n",
       "      <td>ac transit bus fight oops right article indeed...</td>\n",
       "    </tr>\n",
       "    <tr>\n",
       "      <th>69259</th>\n",
       "      <td>ba1391a10edc2d69</td>\n",
       "      <td>thank experimenting page canada wikipedia test...</td>\n",
       "    </tr>\n",
       "    <tr>\n",
       "      <th>9023</th>\n",
       "      <td>181e6bdeb5e8ab18</td>\n",
       "      <td>sienke could list eurovision song contest entr...</td>\n",
       "    </tr>\n",
       "    <tr>\n",
       "      <th>153272</th>\n",
       "      <td>a5a2f38d61c5a1f7</td>\n",
       "      <td>view classic pov rankings matter public record...</td>\n",
       "    </tr>\n",
       "    <tr>\n",
       "      <th>2565</th>\n",
       "      <td>06e2e079e0e1e9c6</td>\n",
       "      <td>lucy hannah fraud actual age lucy hannah compl...</td>\n",
       "    </tr>\n",
       "  </tbody>\n",
       "</table>\n",
       "</div>"
      ],
      "text/plain": [
       "                      id                                       comment_text\n",
       "133752  ce62150bc62b0a0e  ac transit bus fight oops right article indeed...\n",
       "69259   ba1391a10edc2d69  thank experimenting page canada wikipedia test...\n",
       "9023    181e6bdeb5e8ab18  sienke could list eurovision song contest entr...\n",
       "153272  a5a2f38d61c5a1f7  view classic pov rankings matter public record...\n",
       "2565    06e2e079e0e1e9c6  lucy hannah fraud actual age lucy hannah compl..."
      ]
     },
     "execution_count": 42,
     "metadata": {},
     "output_type": "execute_result"
    }
   ],
   "source": [
    "x_tn.head()"
   ]
  },
  {
   "cell_type": "markdown",
   "id": "77c40c28-4847-40f0-919e-fe5116a3df02",
   "metadata": {},
   "source": [
    "### Maybe, the false positive caused by unseen words(?)"
   ]
  },
  {
   "cell_type": "code",
   "execution_count": 49,
   "id": "91dc4d18-29dd-4f8d-8a0f-14e860c357d7",
   "metadata": {},
   "outputs": [],
   "source": [
    "x_train_prep = joblib.load(\"../output/x_train_preprocessed.pkl\")\n",
    "y_train = joblib.load(\"../output/y_train.pkl\")\n",
    "train = pd.concat([x_train_prep, y_train], axis=1)\n",
    "train = train.loc[:,~train.columns.duplicated()]"
   ]
  },
  {
   "cell_type": "code",
   "execution_count": 51,
   "id": "b1141867-7a4e-4913-bc9b-1d1a11feab23",
   "metadata": {},
   "outputs": [
    {
     "data": {
      "text/html": [
       "<div>\n",
       "<style scoped>\n",
       "    .dataframe tbody tr th:only-of-type {\n",
       "        vertical-align: middle;\n",
       "    }\n",
       "\n",
       "    .dataframe tbody tr th {\n",
       "        vertical-align: top;\n",
       "    }\n",
       "\n",
       "    .dataframe thead th {\n",
       "        text-align: right;\n",
       "    }\n",
       "</style>\n",
       "<table border=\"1\" class=\"dataframe\">\n",
       "  <thead>\n",
       "    <tr style=\"text-align: right;\">\n",
       "      <th></th>\n",
       "      <th>id</th>\n",
       "      <th>comment_text</th>\n",
       "      <th>toxic</th>\n",
       "    </tr>\n",
       "  </thead>\n",
       "  <tbody>\n",
       "    <tr>\n",
       "      <th>106733</th>\n",
       "      <td>3d303218bc9d56fa</td>\n",
       "      <td>illogical bans certainly sympathize plight mus...</td>\n",
       "      <td>0</td>\n",
       "    </tr>\n",
       "    <tr>\n",
       "      <th>93690</th>\n",
       "      <td>fbacf64b2f11bdb3</td>\n",
       "      <td>enforce arbitration decision blocked editing p...</td>\n",
       "      <td>0</td>\n",
       "    </tr>\n",
       "    <tr>\n",
       "      <th>62159</th>\n",
       "      <td>a71e414e75c5fd8c</td>\n",
       "      <td>washout facts prove washout fine ar declared u...</td>\n",
       "      <td>1</td>\n",
       "    </tr>\n",
       "    <tr>\n",
       "      <th>168427</th>\n",
       "      <td>27b254aa4b776ebf</td>\n",
       "      <td>yeah right let see said bright star catalog no...</td>\n",
       "      <td>0</td>\n",
       "    </tr>\n",
       "    <tr>\n",
       "      <th>68855</th>\n",
       "      <td>b912ae4fa4bf5164</td>\n",
       "      <td>hello mr fucking jackass cunt remember wasnt g...</td>\n",
       "      <td>1</td>\n",
       "    </tr>\n",
       "    <tr>\n",
       "      <th>...</th>\n",
       "      <td>...</td>\n",
       "      <td>...</td>\n",
       "      <td>...</td>\n",
       "    </tr>\n",
       "    <tr>\n",
       "      <th>47826</th>\n",
       "      <td>805225f6fdbffbfb</td>\n",
       "      <td>first place picture turkish bloody yataghan in...</td>\n",
       "      <td>1</td>\n",
       "    </tr>\n",
       "    <tr>\n",
       "      <th>46804</th>\n",
       "      <td>7d9a493d304f1b70</td>\n",
       "      <td>zionist jewbastard khazar turks love filibuste...</td>\n",
       "      <td>1</td>\n",
       "    </tr>\n",
       "    <tr>\n",
       "      <th>156981</th>\n",
       "      <td>e1d19b4f8a33137f</td>\n",
       "      <td>picture jackass known psychonaut go http www n...</td>\n",
       "      <td>0</td>\n",
       "    </tr>\n",
       "    <tr>\n",
       "      <th>17931</th>\n",
       "      <td>2f966c101629d1ac</td>\n",
       "      <td>move milwaukee fat jackass</td>\n",
       "      <td>1</td>\n",
       "    </tr>\n",
       "    <tr>\n",
       "      <th>208251</th>\n",
       "      <td>cbc7ec43db67d779</td>\n",
       "      <td>waste precious dick space come find jackass</td>\n",
       "      <td>1</td>\n",
       "    </tr>\n",
       "  </tbody>\n",
       "</table>\n",
       "<p>90 rows × 3 columns</p>\n",
       "</div>"
      ],
      "text/plain": [
       "                      id                                       comment_text  \\\n",
       "106733  3d303218bc9d56fa  illogical bans certainly sympathize plight mus...   \n",
       "93690   fbacf64b2f11bdb3  enforce arbitration decision blocked editing p...   \n",
       "62159   a71e414e75c5fd8c  washout facts prove washout fine ar declared u...   \n",
       "168427  27b254aa4b776ebf  yeah right let see said bright star catalog no...   \n",
       "68855   b912ae4fa4bf5164  hello mr fucking jackass cunt remember wasnt g...   \n",
       "...                  ...                                                ...   \n",
       "47826   805225f6fdbffbfb  first place picture turkish bloody yataghan in...   \n",
       "46804   7d9a493d304f1b70  zionist jewbastard khazar turks love filibuste...   \n",
       "156981  e1d19b4f8a33137f  picture jackass known psychonaut go http www n...   \n",
       "17931   2f966c101629d1ac                         move milwaukee fat jackass   \n",
       "208251  cbc7ec43db67d779        waste precious dick space come find jackass   \n",
       "\n",
       "        toxic  \n",
       "106733      0  \n",
       "93690       0  \n",
       "62159       1  \n",
       "168427      0  \n",
       "68855       1  \n",
       "...       ...  \n",
       "47826       1  \n",
       "46804       1  \n",
       "156981      0  \n",
       "17931       1  \n",
       "208251      1  \n",
       "\n",
       "[90 rows x 3 columns]"
      ]
     },
     "execution_count": 51,
     "metadata": {},
     "output_type": "execute_result"
    }
   ],
   "source": [
    "train[train.comment_text.str.contains('jackass')]"
   ]
  },
  {
   "cell_type": "markdown",
   "id": "defcdf98-79bd-4d54-acd9-576624ac0edc",
   "metadata": {},
   "source": [
    "Seems that our hypothesis is wrong. Any Idea? What analysis that could we do to understand our model?\n",
    "\n",
    "What should we do next?\n",
    "- Try to add and/or remove feature(s)\n",
    "- Try other models: Neural Network(?)"
   ]
  },
  {
   "cell_type": "code",
   "execution_count": null,
   "id": "f15ee61d-8ba4-466d-926c-90660a63758b",
   "metadata": {},
   "outputs": [],
   "source": []
  },
  {
   "cell_type": "code",
   "execution_count": null,
   "id": "4220fa2e-3274-4d52-ad90-9147582c5575",
   "metadata": {},
   "outputs": [],
   "source": []
  },
  {
   "cell_type": "code",
   "execution_count": null,
   "id": "ced62488-e6d5-4230-bc31-00adbd12f620",
   "metadata": {},
   "outputs": [],
   "source": []
  },
  {
   "cell_type": "code",
   "execution_count": null,
   "id": "8eb90af9-2084-47e6-80ad-a46961120ab0",
   "metadata": {},
   "outputs": [],
   "source": []
  },
  {
   "cell_type": "code",
   "execution_count": null,
   "id": "09b998fe-7866-4b5f-b9ee-9520922167e7",
   "metadata": {},
   "outputs": [],
   "source": []
  },
  {
   "cell_type": "code",
   "execution_count": null,
   "id": "f2c15319-cb07-4372-a6ce-968226e56a1c",
   "metadata": {},
   "outputs": [],
   "source": []
  },
  {
   "cell_type": "code",
   "execution_count": null,
   "id": "fa8744c2-119b-4eeb-ba9a-95850a2a56de",
   "metadata": {},
   "outputs": [],
   "source": []
  },
  {
   "cell_type": "code",
   "execution_count": null,
   "id": "f6aa5838-b15c-4163-9ec5-504053cf2ba6",
   "metadata": {},
   "outputs": [],
   "source": []
  }
 ],
 "metadata": {
  "kernelspec": {
   "display_name": "Python 3 (ipykernel)",
   "language": "python",
   "name": "python3"
  },
  "language_info": {
   "codemirror_mode": {
    "name": "ipython",
    "version": 3
   },
   "file_extension": ".py",
   "mimetype": "text/x-python",
   "name": "python",
   "nbconvert_exporter": "python",
   "pygments_lexer": "ipython3",
   "version": "3.9.6"
  }
 },
 "nbformat": 4,
 "nbformat_minor": 5
}
